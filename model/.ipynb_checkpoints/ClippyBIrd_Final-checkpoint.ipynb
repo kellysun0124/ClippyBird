{
 "cells": [
  {
   "cell_type": "code",
   "execution_count": 1,
   "id": "ad8822bf-0048-4dfb-b17e-1d2a09ba0007",
   "metadata": {},
   "outputs": [],
   "source": [
    "import os\n",
    "os.environ['TF_CPP_MIN_LOG_LEVEL'] = '2'\n",
    "\n",
    "import numpy as np\n",
    "import matplotlib.pyplot as plt\n",
    "import tensorflow as tf\n",
    "from tensorflow.keras.applications.mobilenet_v2 import preprocess_input, MobileNetV2\n",
    "from tensorflow.keras.layers import Dense, Flatten, Dropout\n",
    "from tensorflow.keras.models import Sequential\n",
    "from tensorflow.keras.preprocessing.image import ImageDataGenerator\n",
    "from tensorflow.keras import regularizers\n",
    "from tensorflow.keras.preprocessing import image"
   ]
  },
  {
   "cell_type": "code",
   "execution_count": 2,
   "id": "45b3c67f-2a81-4ac6-932b-e00fcf19471c",
   "metadata": {},
   "outputs": [],
   "source": [
    "# Global Variables\n",
    "img_height, img_width = 224, 224\n",
    "dataset_path = 'mult_train_dataset'\n",
    "# bird_path = os.path.join(dataset_path, '1')\n",
    "# nonbird_path = os.path.join(dataset_path, '0')"
   ]
  },
  {
   "cell_type": "code",
   "execution_count": 3,
   "id": "51725ca9-32d9-40cf-a0bc-96e25a51d0cc",
   "metadata": {},
   "outputs": [],
   "source": [
    "bird_species_name = ['AMERICAN_GOLDFINCH', 'AMERICAN_ROBIN', 'BALTIMORE_ORIOLE', 'COMMON_STARLING', \n",
    "                     'CRESTED_NUTHATCH', 'CROW', 'DOWNY_WOODPECKER', 'HOUSE_FINCH', 'HOUSE_SPARROW', \n",
    "                     'MOURNING_DOVE', 'NORTHERN_CARDINAL', 'RED_HEADED_WOODPECKER', 'TIT_MOUSE', 'BLACK-CAPPED_CHICKADEE']"
   ]
  },
  {
   "cell_type": "code",
   "execution_count": 4,
   "id": "9e1f3e2e-c20d-43b6-8ac6-16623a3a95bd",
   "metadata": {},
   "outputs": [],
   "source": [
    "# Preprocessing image Pixels with Z-score normalization\n",
    "def process(image):\n",
    "    image = tf.cast(image, tf.float32) / 255.0  # Convert to float and scale to [0, 1]\n",
    "    mean = tf.reduce_mean(image, axis=(0, 1), keepdims=True)\n",
    "    std = tf.math.reduce_std(image, axis=(0, 1), keepdims=True)\n",
    "    image = (image - mean) / (std + 1e-8)  # Z-score normalization, added small epsilon to prevent division by zero\n",
    "    return image"
   ]
  },
  {
   "cell_type": "code",
   "execution_count": 5,
   "id": "6e915129-b867-4a53-9006-42c81c52cd6a",
   "metadata": {},
   "outputs": [],
   "source": [
    "# Data Generator with z-score normalization\n",
    "datagen = ImageDataGenerator(\n",
    "    preprocessing_function=process,\n",
    "    validation_split=0.2,\n",
    "    rotation_range=30,\n",
    "    width_shift_range=0.2,\n",
    "    height_shift_range=0.2,\n",
    "    shear_range=0.2,\n",
    "    zoom_range=0.2,\n",
    "    horizontal_flip=True\n",
    ")"
   ]
  },
  {
   "cell_type": "code",
   "execution_count": 6,
   "id": "7268552f-f674-4950-aee3-32e1b040e60d",
   "metadata": {
    "scrolled": true
   },
   "outputs": [
    {
     "name": "stdout",
     "output_type": "stream",
     "text": [
      "Found 1735 images belonging to 14 classes.\n"
     ]
    }
   ],
   "source": [
    "# Train set generator with shuffle enabled\n",
    "Train_gen = datagen.flow_from_directory(\n",
    "    dataset_path,\n",
    "    target_size=(img_height, img_width),\n",
    "    batch_size=256,\n",
    "    class_mode='categorical',\n",
    "    subset='training',\n",
    "    shuffle=True,  # Enable shuffling\n",
    "    seed=27\n",
    ")"
   ]
  },
  {
   "cell_type": "code",
   "execution_count": 7,
   "id": "1a82d7ca-9a88-4025-b5ba-772ff6056432",
   "metadata": {},
   "outputs": [
    {
     "name": "stdout",
     "output_type": "stream",
     "text": [
      "Found 426 images belonging to 14 classes.\n"
     ]
    }
   ],
   "source": [
    "# Validation set generator with increased shuffle buffer size\n",
    "Valid_gen = datagen.flow_from_directory(\n",
    "    dataset_path,\n",
    "    target_size=(img_height, img_width),\n",
    "    batch_size=160,\n",
    "    class_mode='categorical',\n",
    "    subset='validation',\n",
    "    shuffle=True,\n",
    "    seed=27\n",
    ")"
   ]
  },
  {
   "cell_type": "code",
   "execution_count": 8,
   "id": "70f681a8-cbe0-4f7d-8b75-c5cdd5f6dd76",
   "metadata": {},
   "outputs": [],
   "source": [
    "# Load MobileNetV2 model\n",
    "base_model = MobileNetV2(weights='imagenet', include_top=False, input_shape=(img_height, img_width, 3))"
   ]
  },
  {
   "cell_type": "code",
   "execution_count": 9,
   "id": "84eec46f-5cc6-4f55-8e1d-5e4ff3362ef3",
   "metadata": {},
   "outputs": [],
   "source": [
    "# Unfreeze some layers of the base model for fine-tuning\n",
    "for layer in base_model.layers[:-100]:\n",
    "    layer.trainable = False"
   ]
  },
  {
   "cell_type": "code",
   "execution_count": 41,
   "id": "156e563e-e755-4eb0-8a40-f9ee05eb8889",
   "metadata": {},
   "outputs": [
    {
     "name": "stdout",
     "output_type": "stream",
     "text": [
      "Model: \"sequential_2\"\n",
      "_________________________________________________________________\n",
      " Layer (type)                Output Shape              Param #   \n",
      "=================================================================\n",
      " mobilenetv2_1.00_224 (Func  (None, 7, 7, 1280)        2257984   \n",
      " tional)                                                         \n",
      "                                                                 \n",
      " flatten_2 (Flatten)         (None, 62720)             0         \n",
      "                                                                 \n",
      " dense_4 (Dense)             (None, 256)               16056576  \n",
      "                                                                 \n",
      " dropout_2 (Dropout)         (None, 256)               0         \n",
      "                                                                 \n",
      " dense_5 (Dense)             (None, 14)                3598      \n",
      "                                                                 \n",
      "=================================================================\n",
      "Total params: 18318158 (69.88 MB)\n",
      "Trainable params: 18228558 (69.54 MB)\n",
      "Non-trainable params: 89600 (350.00 KB)\n",
      "_________________________________________________________________\n"
     ]
    }
   ],
   "source": [
    "# Create Custom Model\n",
    "model = Sequential()\n",
    "model.add(base_model)\n",
    "model.add(Flatten())\n",
    "model.add(Dense(256, activation='relu', kernel_regularizer=regularizers.l2(0.001)))  # Increased units\n",
    "model.add(Dropout(0.8))  # Increased dropout rate\n",
    "model.add(Dense(14, activation='softmax', kernel_regularizer=regularizers.l2(0.001)))\n",
    "\n",
    "model.summary()"
   ]
  },
  {
   "cell_type": "code",
   "execution_count": 42,
   "id": "429d010b-be03-4f15-9668-ee8e8051608b",
   "metadata": {},
   "outputs": [],
   "source": [
    "# optimizer = tf.keras.optimizers.Adam(learning_rate=0.0001) "
   ]
  },
  {
   "cell_type": "code",
   "execution_count": 43,
   "id": "1090471f-e8e3-467b-a19e-8055ce6d282e",
   "metadata": {},
   "outputs": [],
   "source": [
    "# Compile the Model with reduced learning rate\n",
    "model.compile(\n",
    "    optimizer='adam',\n",
    "    loss='categorical_crossentropy',\n",
    "    metrics=['accuracy']\n",
    ")"
   ]
  },
  {
   "cell_type": "code",
   "execution_count": 50,
   "id": "c5b18cdb-a20b-4e50-a046-b90fe156ba08",
   "metadata": {},
   "outputs": [
    {
     "name": "stdout",
     "output_type": "stream",
     "text": [
      "Epoch 1/30\n",
      "7/7 [==============================] - 44s 6s/step - loss: 0.6583 - accuracy: 0.8121 - val_loss: 10.2069 - val_accuracy: 0.2629\n",
      "Epoch 2/30\n",
      "7/7 [==============================] - 41s 6s/step - loss: 0.5469 - accuracy: 0.8611 - val_loss: 10.1262 - val_accuracy: 0.1455\n",
      "Epoch 3/30\n",
      "7/7 [==============================] - 43s 6s/step - loss: 0.5098 - accuracy: 0.8830 - val_loss: 8.7883 - val_accuracy: 0.1854\n",
      "Epoch 4/30\n",
      "7/7 [==============================] - 47s 7s/step - loss: 0.4827 - accuracy: 0.9061 - val_loss: 9.0123 - val_accuracy: 0.0915\n",
      "Epoch 5/30\n",
      "7/7 [==============================] - 85s 12s/step - loss: 0.4350 - accuracy: 0.9037 - val_loss: 6.9419 - val_accuracy: 0.1221\n",
      "Epoch 6/30\n",
      "7/7 [==============================] - 76s 11s/step - loss: 0.3564 - accuracy: 0.9124 - val_loss: 6.1313 - val_accuracy: 0.1197\n",
      "Epoch 7/30\n",
      "7/7 [==============================] - 60s 8s/step - loss: 0.3865 - accuracy: 0.9251 - val_loss: 5.4695 - val_accuracy: 0.0822\n",
      "Epoch 8/30\n",
      "7/7 [==============================] - 56s 8s/step - loss: 0.3922 - accuracy: 0.9303 - val_loss: 3.9502 - val_accuracy: 0.0986\n",
      "Epoch 9/30\n",
      "7/7 [==============================] - 73s 11s/step - loss: 0.3178 - accuracy: 0.9245 - val_loss: 6.2819 - val_accuracy: 0.1174\n",
      "Epoch 10/30\n",
      "7/7 [==============================] - 72s 10s/step - loss: 0.3134 - accuracy: 0.9337 - val_loss: 7.5016 - val_accuracy: 0.1009\n",
      "Epoch 11/30\n",
      "7/7 [==============================] - 65s 9s/step - loss: 0.3698 - accuracy: 0.9326 - val_loss: 5.3716 - val_accuracy: 0.0892\n",
      "Epoch 12/30\n",
      "7/7 [==============================] - 51s 7s/step - loss: 0.3972 - accuracy: 0.9159 - val_loss: 3.7787 - val_accuracy: 0.0915\n",
      "Epoch 13/30\n",
      "7/7 [==============================] - 72s 11s/step - loss: 0.4294 - accuracy: 0.9049 - val_loss: 3.9100 - val_accuracy: 0.1127\n",
      "Epoch 14/30\n",
      "7/7 [==============================] - 57s 8s/step - loss: 0.3157 - accuracy: 0.9199 - val_loss: 7.3014 - val_accuracy: 0.0845\n",
      "Epoch 15/30\n",
      "7/7 [==============================] - 54s 7s/step - loss: 0.3507 - accuracy: 0.9280 - val_loss: 5.8577 - val_accuracy: 0.1596\n",
      "Epoch 16/30\n",
      "7/7 [==============================] - 54s 8s/step - loss: 0.2344 - accuracy: 0.9378 - val_loss: 10.5349 - val_accuracy: 0.1784\n",
      "Epoch 17/30\n",
      "7/7 [==============================] - 55s 8s/step - loss: 0.2740 - accuracy: 0.9429 - val_loss: 10.0324 - val_accuracy: 0.2066\n",
      "Epoch 18/30\n",
      "7/7 [==============================] - 54s 8s/step - loss: 0.2309 - accuracy: 0.9522 - val_loss: 13.4215 - val_accuracy: 0.2465\n",
      "Epoch 19/30\n",
      "7/7 [==============================] - 57s 8s/step - loss: 0.2608 - accuracy: 0.9573 - val_loss: 12.1811 - val_accuracy: 0.2629\n",
      "Epoch 20/30\n",
      "7/7 [==============================] - 56s 8s/step - loss: 0.2663 - accuracy: 0.9510 - val_loss: 7.5433 - val_accuracy: 0.3521\n",
      "Epoch 21/30\n",
      "7/7 [==============================] - 57s 8s/step - loss: 0.3348 - accuracy: 0.9429 - val_loss: 7.6685 - val_accuracy: 0.3427\n",
      "Epoch 22/30\n",
      "7/7 [==============================] - 57s 8s/step - loss: 0.2443 - accuracy: 0.9527 - val_loss: 19.5201 - val_accuracy: 0.2300\n",
      "Epoch 23/30\n",
      "7/7 [==============================] - 58s 8s/step - loss: 0.3510 - accuracy: 0.9435 - val_loss: 32.1917 - val_accuracy: 0.1667\n",
      "Epoch 24/30\n",
      "7/7 [==============================] - 57s 8s/step - loss: 0.3545 - accuracy: 0.9372 - val_loss: 45.8557 - val_accuracy: 0.1878\n",
      "Epoch 25/30\n",
      "7/7 [==============================] - 57s 8s/step - loss: 0.2357 - accuracy: 0.9510 - val_loss: 50.5310 - val_accuracy: 0.2254\n",
      "Epoch 26/30\n",
      "7/7 [==============================] - 44s 6s/step - loss: 0.3370 - accuracy: 0.9401 - val_loss: 62.8480 - val_accuracy: 0.1737\n",
      "Epoch 27/30\n",
      "7/7 [==============================] - 43s 6s/step - loss: 0.3228 - accuracy: 0.9383 - val_loss: 73.1409 - val_accuracy: 0.1620\n"
     ]
    }
   ],
   "source": [
    "# Train the Model with Early Stopping\n",
    "early_stopping = tf.keras.callbacks.EarlyStopping(\n",
    "    monitor='val_loss',\n",
    "    patience=15,\n",
    "    restore_best_weights=True\n",
    ")\n",
    "\n",
    "history = model.fit(\n",
    "    Train_gen,\n",
    "    epochs=30,  # Increase epochs to allow early stopping to work\n",
    "    validation_data=Valid_gen,\n",
    "    callbacks=[early_stopping]  # Add early stopping callback\n",
    ")"
   ]
  },
  {
   "cell_type": "code",
   "execution_count": 51,
   "id": "89f17da4-a115-4916-8c3f-ffcd3df9915e",
   "metadata": {},
   "outputs": [
    {
     "data": {
      "image/png": "[encoded data removed]",
      "text/plain": [
       "<Figure size 640x480 with 1 Axes>"
      ]
     },
     "metadata": {},
     "output_type": "display_data"
    }
   ],
   "source": [
    "# Plot training history\n",
    "plt.plot(history.history['accuracy'], color='blue', label='train')\n",
    "plt.plot(history.history['val_accuracy'], color='orange', label='validation')\n",
    "plt.legend()\n",
    "plt.show()"
   ]
  },
  {
   "cell_type": "code",
   "execution_count": 58,
   "id": "67c18b43-0e9f-4836-b9b9-69477abb942e",
   "metadata": {},
   "outputs": [
    {
     "name": "stdout",
     "output_type": "stream",
     "text": [
      "1/1 [==============================] - 0s 32ms/step\n",
      "6\n",
      "Predicted Bird Species:  DOWNY_WOODPECKER\n"
     ]
    }
   ],
   "source": [
    "# Predict on a single image\n",
    "image_path = '/Users/kevin/Documents/college/sp24/capstone/codebase/04152024_ClippyBird/ClippyBird/model/mult_test_dataset/11.jpg'\n",
    "img = image.load_img(image_path, target_size=(img_height, img_width))\n",
    "img_array = image.img_to_array(img)\n",
    "img_array = np.expand_dims(img_array, axis=0)\n",
    "img_array = img_array / 255.0\n",
    "\n",
    "predictions = model.predict(img_array)\n",
    "predicted_class_index = np.argmax(predictions)\n",
    "print(predicted_class_index)\n",
    "predicted_species_name = bird_species_name[predicted_class_index]\n",
    "print(\"Predicted Bird Species: \", predicted_species_name)"
   ]
  },
  {
   "cell_type": "code",
   "execution_count": 48,
   "id": "932f6efe-6fbc-47ed-8515-84c8c543c1fe",
   "metadata": {},
   "outputs": [],
   "source": [
    "from tensorflow.python.saved_model.save import save\n",
    "model.save('test_classifier.h5')"
   ]
  },
  {
   "cell_type": "code",
   "execution_count": 49,
   "id": "3f2a54ed-bbba-4004-b065-b9bd3c342628",
   "metadata": {},
   "outputs": [],
   "source": [
    "!tensorflowjs_converter --input_format=keras --output_format=tfjs_layers_model /Users/kevin/Documents/college/sp24/capstone/codebase/04152024_ClippyBird/ClippyBird/model/test_classifier.h5 /Users/kevin/Documents/college/sp24/capstone/codebase/04152024_ClippyBird/ClippyBird/model/test_classifier.h5tfjs_binary_classifier"
   ]
  },
  {
   "cell_type": "code",
   "execution_count": null,
   "id": "cb386381-ec9e-4877-a58f-e6a85f3422ee",
   "metadata": {},
   "outputs": [],
   "source": []
  }
 ],
 "metadata": {
  "kernelspec": {
   "display_name": "Python 3 (ipykernel)",
   "language": "python",
   "name": "python3"
  },
  "language_info": {
   "codemirror_mode": {
    "name": "ipython",
    "version": 3
   },
   "file_extension": ".py",
   "mimetype": "text/x-python",
   "name": "python",
   "nbconvert_exporter": "python",
   "pygments_lexer": "ipython3",
   "version": "3.11.4"
  }
 },
 "nbformat": 4,
 "nbformat_minor": 5
}
