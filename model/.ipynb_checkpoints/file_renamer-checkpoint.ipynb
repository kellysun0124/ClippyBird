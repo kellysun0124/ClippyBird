{
 "cells": [
  {
   "cell_type": "code",
   "execution_count": 1,
   "id": "a8b6d1ea-d9c4-4f58-b860-4f3380cf389e",
   "metadata": {},
   "outputs": [],
   "source": [
    "import os"
   ]
  },
  {
   "cell_type": "code",
   "execution_count": 71,
   "id": "39a6f89c-4be6-4122-b0d9-48a2aaffccb9",
   "metadata": {},
   "outputs": [],
   "source": [
    "def rename_files(dir, start_num):\n",
    "    files = os.listdir(dir)\n",
    "    image_files = [f for f in files if f.endswith('.jpg')]\n",
    "    image_files.sort()\n",
    "    cur_num = start_num\n",
    "\n",
    "    print(len(image_files))\n",
    "\n",
    "    for file in image_files:\n",
    "        new_name = f'image{cur_num}{os.path.splitext(file)[1]}'\n",
    "        \n",
    "        if (new_name in image_files):\n",
    "            cur_num+=1\n",
    "            continue\n",
    "        \n",
    "        old_file = os.path.join(dir, file)\n",
    "        new_file = os.path.join(dir, new_name)\n",
    "\n",
    "        #print(old_file)\n",
    "        #print(new_file)\n",
    "\n",
    "        os.rename(old_file, new_file)\n",
    "\n",
    "        cur_num+=1"
   ]
  },
  {
   "cell_type": "code",
   "execution_count": 114,
   "id": "2c07e92f-6a83-41be-96fc-214917ca6676",
   "metadata": {},
   "outputs": [
    {
     "name": "stdout",
     "output_type": "stream",
     "text": [
      "1188\n"
     ]
    }
   ],
   "source": [
    "dir = '/Users/kevin/Documents/college/sp24/capstone/codebase/ClippyBird/class_model/train_dataset copy/1'\n",
    "start_num = 1\n",
    "\n",
    "rename_files(dir, start_num)"
   ]
  },
  {
   "cell_type": "code",
   "execution_count": 113,
   "id": "ca0f4db2-8e4f-4de9-9b1d-121a234c28f2",
   "metadata": {},
   "outputs": [
    {
     "name": "stdout",
     "output_type": "stream",
     "text": [
      "1188\n"
     ]
    }
   ],
   "source": [
    "dir = '/Users/kevin/Documents/college/sp24/capstone/codebase/ClippyBird/class_model/train_dataset copy/1'\n",
    "\n",
    "files = os.listdir(dir)\n",
    "image_files = [f for f in files if f.endswith('.jpg')]\n",
    "image_files.sort()\n",
    "\n",
    "print(len(image_files))"
   ]
  },
  {
   "cell_type": "code",
   "execution_count": null,
   "id": "74a4a11b-2a57-4f45-8990-83460062d75c",
   "metadata": {},
   "outputs": [],
   "source": []
  }
 ],
 "metadata": {
  "kernelspec": {
   "display_name": "Python 3 (ipykernel)",
   "language": "python",
   "name": "python3"
  },
  "language_info": {
   "codemirror_mode": {
    "name": "ipython",
    "version": 3
   },
   "file_extension": ".py",
   "mimetype": "text/x-python",
   "name": "python",
   "nbconvert_exporter": "python",
   "pygments_lexer": "ipython3",
   "version": "3.11.4"
  }
 },
 "nbformat": 4,
 "nbformat_minor": 5
}
